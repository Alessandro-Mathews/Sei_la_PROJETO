{
 "cells": [
  {
   "cell_type": "code",
   "execution_count": 1,
   "id": "18bbb151-f87b-4d05-9154-9446a95da72c",
   "metadata": {},
   "outputs": [],
   "source": [
    "#Biblioteca do pandas:\n",
    "import pandas as pd"
   ]
  },
  {
   "cell_type": "code",
   "execution_count": 2,
   "id": "d91b0620-8eee-406a-ace5-20a91488cb93",
   "metadata": {},
   "outputs": [],
   "source": [
    "dados = pd.read_csv('Pokemon_alterados.csv')"
   ]
  },
  {
   "cell_type": "code",
   "execution_count": 3,
   "id": "d445adb0-d068-4cb9-899c-a16b2ad65dfe",
   "metadata": {},
   "outputs": [
    {
     "data": {
      "text/plain": [
       "<bound method DataFrame.info of        #                   Name   Type 1  HP  Attack  Defense  Speed\n",
       "0      1              Bulbasaur    Grass  45      49       49     45\n",
       "1      2                Ivysaur    Grass  60      62       63     60\n",
       "2      3               Venusaur    Grass  80      82       83     80\n",
       "3      3  VenusaurMega Venusaur    Grass  80     100      123     80\n",
       "4      4             Charmander     Fire  39      52       43     65\n",
       "..   ...                    ...      ...  ..     ...      ...    ...\n",
       "795  719                Diancie     Rock  50     100      150     50\n",
       "796  719    DiancieMega Diancie     Rock  50     160      110    110\n",
       "797  720    HoopaHoopa Confined  Psychic  80     110       60     70\n",
       "798  720     HoopaHoopa Unbound  Psychic  80     160       60     80\n",
       "799  721              Volcanion     Fire  80     110      120     70\n",
       "\n",
       "[800 rows x 7 columns]>"
      ]
     },
     "execution_count": 3,
     "metadata": {},
     "output_type": "execute_result"
    }
   ],
   "source": [
    "dados.info"
   ]
  },
  {
   "cell_type": "code",
   "execution_count": 4,
   "id": "86322b03-fa4b-4403-8a08-b7419fdf3713",
   "metadata": {},
   "outputs": [],
   "source": [
    "#Antes não dava para excluir pois estava como chave primária.\n",
    "dados.drop('#', axis = 1, inplace=True)"
   ]
  },
  {
   "cell_type": "code",
   "execution_count": 5,
   "id": "f78019fe-4470-4a2e-bd85-58498b53aa3b",
   "metadata": {},
   "outputs": [
    {
     "data": {
      "text/plain": [
       "<bound method DataFrame.info of                       Name   Type 1  HP  Attack  Defense  Speed\n",
       "0                Bulbasaur    Grass  45      49       49     45\n",
       "1                  Ivysaur    Grass  60      62       63     60\n",
       "2                 Venusaur    Grass  80      82       83     80\n",
       "3    VenusaurMega Venusaur    Grass  80     100      123     80\n",
       "4               Charmander     Fire  39      52       43     65\n",
       "..                     ...      ...  ..     ...      ...    ...\n",
       "795                Diancie     Rock  50     100      150     50\n",
       "796    DiancieMega Diancie     Rock  50     160      110    110\n",
       "797    HoopaHoopa Confined  Psychic  80     110       60     70\n",
       "798     HoopaHoopa Unbound  Psychic  80     160       60     80\n",
       "799              Volcanion     Fire  80     110      120     70\n",
       "\n",
       "[800 rows x 6 columns]>"
      ]
     },
     "execution_count": 5,
     "metadata": {},
     "output_type": "execute_result"
    }
   ],
   "source": [
    "dados.info"
   ]
  },
  {
   "cell_type": "code",
   "execution_count": 6,
   "id": "4e170bf7-4304-4d17-a308-f09997e980ec",
   "metadata": {},
   "outputs": [
    {
     "data": {
      "text/plain": [
       "Name       False\n",
       "Type 1     False\n",
       "HP         False\n",
       "Attack     False\n",
       "Defense    False\n",
       "Speed      False\n",
       "dtype: bool"
      ]
     },
     "execution_count": 6,
     "metadata": {},
     "output_type": "execute_result"
    }
   ],
   "source": [
    "#Para verificar se possui algum valor vazio:\n",
    "dados.isna().any()"
   ]
  },
  {
   "cell_type": "code",
   "execution_count": 7,
   "id": "fd678da7-647f-43a4-ba7f-213ae9243f1b",
   "metadata": {},
   "outputs": [],
   "source": [
    "#Não possui nenhum."
   ]
  },
  {
   "cell_type": "code",
   "execution_count": 8,
   "id": "5bb71c5e-3b81-4fa2-91ca-e1935c8da25f",
   "metadata": {},
   "outputs": [
    {
     "data": {
      "text/html": [
       "<div>\n",
       "<style scoped>\n",
       "    .dataframe tbody tr th:only-of-type {\n",
       "        vertical-align: middle;\n",
       "    }\n",
       "\n",
       "    .dataframe tbody tr th {\n",
       "        vertical-align: top;\n",
       "    }\n",
       "\n",
       "    .dataframe thead th {\n",
       "        text-align: right;\n",
       "    }\n",
       "</style>\n",
       "<table border=\"1\" class=\"dataframe\">\n",
       "  <thead>\n",
       "    <tr style=\"text-align: right;\">\n",
       "      <th></th>\n",
       "      <th>Name</th>\n",
       "      <th>Type 1</th>\n",
       "      <th>HP</th>\n",
       "      <th>Attack</th>\n",
       "      <th>Defense</th>\n",
       "      <th>Speed</th>\n",
       "    </tr>\n",
       "  </thead>\n",
       "  <tbody>\n",
       "    <tr>\n",
       "      <th>34</th>\n",
       "      <td>Nidoran♀</td>\n",
       "      <td>Poison</td>\n",
       "      <td>55</td>\n",
       "      <td>47</td>\n",
       "      <td>52</td>\n",
       "      <td>41</td>\n",
       "    </tr>\n",
       "    <tr>\n",
       "      <th>37</th>\n",
       "      <td>Nidoran♂</td>\n",
       "      <td>Poison</td>\n",
       "      <td>46</td>\n",
       "      <td>57</td>\n",
       "      <td>40</td>\n",
       "      <td>50</td>\n",
       "    </tr>\n",
       "  </tbody>\n",
       "</table>\n",
       "</div>"
      ],
      "text/plain": [
       "        Name  Type 1  HP  Attack  Defense  Speed\n",
       "34  Nidoran♀  Poison  55      47       52     41\n",
       "37  Nidoran♂  Poison  46      57       40     50"
      ]
     },
     "execution_count": 8,
     "metadata": {},
     "output_type": "execute_result"
    }
   ],
   "source": [
    "#Comando para observar nas linhas:\n",
    "dados.loc[[34, 37]]"
   ]
  },
  {
   "cell_type": "code",
   "execution_count": 9,
   "id": "d388eddc-057b-4b13-9b9c-4a30d00f80ea",
   "metadata": {},
   "outputs": [],
   "source": [
    "#Comando para renomear:\n",
    "new_dados = pd.DataFrame({'Name': ['Nidoran female', 'Nidoran male']}, index=[34, 37])"
   ]
  },
  {
   "cell_type": "code",
   "execution_count": 10,
   "id": "c56303ee-793c-47c2-814a-96ba925e17c3",
   "metadata": {},
   "outputs": [],
   "source": [
    "#Salvar alterações nos dados:\n",
    "dados.update(new_dados)"
   ]
  },
  {
   "cell_type": "code",
   "execution_count": 11,
   "id": "07fea057-5880-44f3-af50-bd1e2ced4f5f",
   "metadata": {},
   "outputs": [
    {
     "data": {
      "text/plain": [
       "<bound method DataFrame.info of                       Name   Type 1  HP  Attack  Defense  Speed\n",
       "0                Bulbasaur    Grass  45      49       49     45\n",
       "1                  Ivysaur    Grass  60      62       63     60\n",
       "2                 Venusaur    Grass  80      82       83     80\n",
       "3    VenusaurMega Venusaur    Grass  80     100      123     80\n",
       "4               Charmander     Fire  39      52       43     65\n",
       "..                     ...      ...  ..     ...      ...    ...\n",
       "795                Diancie     Rock  50     100      150     50\n",
       "796    DiancieMega Diancie     Rock  50     160      110    110\n",
       "797    HoopaHoopa Confined  Psychic  80     110       60     70\n",
       "798     HoopaHoopa Unbound  Psychic  80     160       60     80\n",
       "799              Volcanion     Fire  80     110      120     70\n",
       "\n",
       "[800 rows x 6 columns]>"
      ]
     },
     "execution_count": 11,
     "metadata": {},
     "output_type": "execute_result"
    }
   ],
   "source": [
    "#Para verificar as tabelas:\n",
    "dados.info"
   ]
  },
  {
   "cell_type": "code",
   "execution_count": 12,
   "id": "e64b43fd-0d21-4fae-b823-f65287910311",
   "metadata": {},
   "outputs": [
    {
     "data": {
      "text/html": [
       "<div>\n",
       "<style scoped>\n",
       "    .dataframe tbody tr th:only-of-type {\n",
       "        vertical-align: middle;\n",
       "    }\n",
       "\n",
       "    .dataframe tbody tr th {\n",
       "        vertical-align: top;\n",
       "    }\n",
       "\n",
       "    .dataframe thead th {\n",
       "        text-align: right;\n",
       "    }\n",
       "</style>\n",
       "<table border=\"1\" class=\"dataframe\">\n",
       "  <thead>\n",
       "    <tr style=\"text-align: right;\">\n",
       "      <th></th>\n",
       "      <th>Name</th>\n",
       "      <th>Type 1</th>\n",
       "      <th>HP</th>\n",
       "      <th>Attack</th>\n",
       "      <th>Defense</th>\n",
       "      <th>Speed</th>\n",
       "    </tr>\n",
       "  </thead>\n",
       "  <tbody>\n",
       "    <tr>\n",
       "      <th>34</th>\n",
       "      <td>Nidoran female</td>\n",
       "      <td>Poison</td>\n",
       "      <td>55</td>\n",
       "      <td>47</td>\n",
       "      <td>52</td>\n",
       "      <td>41</td>\n",
       "    </tr>\n",
       "    <tr>\n",
       "      <th>37</th>\n",
       "      <td>Nidoran male</td>\n",
       "      <td>Poison</td>\n",
       "      <td>46</td>\n",
       "      <td>57</td>\n",
       "      <td>40</td>\n",
       "      <td>50</td>\n",
       "    </tr>\n",
       "  </tbody>\n",
       "</table>\n",
       "</div>"
      ],
      "text/plain": [
       "              Name  Type 1  HP  Attack  Defense  Speed\n",
       "34  Nidoran female  Poison  55      47       52     41\n",
       "37    Nidoran male  Poison  46      57       40     50"
      ]
     },
     "execution_count": 12,
     "metadata": {},
     "output_type": "execute_result"
    }
   ],
   "source": [
    "#Para verificar se as alterações foram realizadas:\n",
    "dados.loc[[34, 37]]"
   ]
  },
  {
   "cell_type": "code",
   "execution_count": 34,
   "id": "3d3154c5-2dc2-446a-bb81-cd2748f133a9",
   "metadata": {},
   "outputs": [
    {
     "data": {
      "text/html": [
       "<div>\n",
       "<style scoped>\n",
       "    .dataframe tbody tr th:only-of-type {\n",
       "        vertical-align: middle;\n",
       "    }\n",
       "\n",
       "    .dataframe tbody tr th {\n",
       "        vertical-align: top;\n",
       "    }\n",
       "\n",
       "    .dataframe thead th {\n",
       "        text-align: right;\n",
       "    }\n",
       "</style>\n",
       "<table border=\"1\" class=\"dataframe\">\n",
       "  <thead>\n",
       "    <tr style=\"text-align: right;\">\n",
       "      <th></th>\n",
       "      <th>index</th>\n",
       "      <th>Name</th>\n",
       "      <th>Type 1</th>\n",
       "      <th>HP</th>\n",
       "      <th>Attack</th>\n",
       "      <th>Defense</th>\n",
       "      <th>Speed</th>\n",
       "    </tr>\n",
       "  </thead>\n",
       "  <tbody>\n",
       "    <tr>\n",
       "      <th>0</th>\n",
       "      <td>0</td>\n",
       "      <td>Bulbasaur</td>\n",
       "      <td>Grass</td>\n",
       "      <td>45</td>\n",
       "      <td>49</td>\n",
       "      <td>49</td>\n",
       "      <td>45</td>\n",
       "    </tr>\n",
       "    <tr>\n",
       "      <th>1</th>\n",
       "      <td>1</td>\n",
       "      <td>Ivysaur</td>\n",
       "      <td>Grass</td>\n",
       "      <td>60</td>\n",
       "      <td>62</td>\n",
       "      <td>63</td>\n",
       "      <td>60</td>\n",
       "    </tr>\n",
       "    <tr>\n",
       "      <th>2</th>\n",
       "      <td>2</td>\n",
       "      <td>Venusaur</td>\n",
       "      <td>Grass</td>\n",
       "      <td>80</td>\n",
       "      <td>82</td>\n",
       "      <td>83</td>\n",
       "      <td>80</td>\n",
       "    </tr>\n",
       "    <tr>\n",
       "      <th>3</th>\n",
       "      <td>3</td>\n",
       "      <td>VenusaurMega Venusaur</td>\n",
       "      <td>Grass</td>\n",
       "      <td>80</td>\n",
       "      <td>100</td>\n",
       "      <td>123</td>\n",
       "      <td>80</td>\n",
       "    </tr>\n",
       "    <tr>\n",
       "      <th>4</th>\n",
       "      <td>4</td>\n",
       "      <td>Charmander</td>\n",
       "      <td>Fire</td>\n",
       "      <td>39</td>\n",
       "      <td>52</td>\n",
       "      <td>43</td>\n",
       "      <td>65</td>\n",
       "    </tr>\n",
       "    <tr>\n",
       "      <th>...</th>\n",
       "      <td>...</td>\n",
       "      <td>...</td>\n",
       "      <td>...</td>\n",
       "      <td>...</td>\n",
       "      <td>...</td>\n",
       "      <td>...</td>\n",
       "      <td>...</td>\n",
       "    </tr>\n",
       "    <tr>\n",
       "      <th>795</th>\n",
       "      <td>795</td>\n",
       "      <td>Diancie</td>\n",
       "      <td>Rock</td>\n",
       "      <td>50</td>\n",
       "      <td>100</td>\n",
       "      <td>150</td>\n",
       "      <td>50</td>\n",
       "    </tr>\n",
       "    <tr>\n",
       "      <th>796</th>\n",
       "      <td>796</td>\n",
       "      <td>DiancieMega Diancie</td>\n",
       "      <td>Rock</td>\n",
       "      <td>50</td>\n",
       "      <td>160</td>\n",
       "      <td>110</td>\n",
       "      <td>110</td>\n",
       "    </tr>\n",
       "    <tr>\n",
       "      <th>797</th>\n",
       "      <td>797</td>\n",
       "      <td>HoopaHoopa Confined</td>\n",
       "      <td>Psychic</td>\n",
       "      <td>80</td>\n",
       "      <td>110</td>\n",
       "      <td>60</td>\n",
       "      <td>70</td>\n",
       "    </tr>\n",
       "    <tr>\n",
       "      <th>798</th>\n",
       "      <td>798</td>\n",
       "      <td>HoopaHoopa Unbound</td>\n",
       "      <td>Psychic</td>\n",
       "      <td>80</td>\n",
       "      <td>160</td>\n",
       "      <td>60</td>\n",
       "      <td>80</td>\n",
       "    </tr>\n",
       "    <tr>\n",
       "      <th>799</th>\n",
       "      <td>799</td>\n",
       "      <td>Volcanion</td>\n",
       "      <td>Fire</td>\n",
       "      <td>80</td>\n",
       "      <td>110</td>\n",
       "      <td>120</td>\n",
       "      <td>70</td>\n",
       "    </tr>\n",
       "  </tbody>\n",
       "</table>\n",
       "<p>800 rows × 7 columns</p>\n",
       "</div>"
      ],
      "text/plain": [
       "     index                   Name   Type 1  HP  Attack  Defense  Speed\n",
       "0        0              Bulbasaur    Grass  45      49       49     45\n",
       "1        1                Ivysaur    Grass  60      62       63     60\n",
       "2        2               Venusaur    Grass  80      82       83     80\n",
       "3        3  VenusaurMega Venusaur    Grass  80     100      123     80\n",
       "4        4             Charmander     Fire  39      52       43     65\n",
       "..     ...                    ...      ...  ..     ...      ...    ...\n",
       "795    795                Diancie     Rock  50     100      150     50\n",
       "796    796    DiancieMega Diancie     Rock  50     160      110    110\n",
       "797    797    HoopaHoopa Confined  Psychic  80     110       60     70\n",
       "798    798     HoopaHoopa Unbound  Psychic  80     160       60     80\n",
       "799    799              Volcanion     Fire  80     110      120     70\n",
       "\n",
       "[800 rows x 7 columns]"
      ]
     },
     "execution_count": 34,
     "metadata": {},
     "output_type": "execute_result"
    }
   ],
   "source": [
    "#Comando para resetar o index na tabela\n",
    "dados.reset_index()"
   ]
  },
  {
   "cell_type": "code",
   "execution_count": 36,
   "id": "d1260b72-cb57-4fe0-b11c-4ea565c63340",
   "metadata": {},
   "outputs": [],
   "source": [
    "#Renomear o index\n",
    "dados.rename_axis('ID', inplace=True)"
   ]
  },
  {
   "cell_type": "code",
   "execution_count": 37,
   "id": "da37d037-66c2-446c-9e85-ea9bd3bf73a3",
   "metadata": {},
   "outputs": [
    {
     "data": {
      "text/html": [
       "<div>\n",
       "<style scoped>\n",
       "    .dataframe tbody tr th:only-of-type {\n",
       "        vertical-align: middle;\n",
       "    }\n",
       "\n",
       "    .dataframe tbody tr th {\n",
       "        vertical-align: top;\n",
       "    }\n",
       "\n",
       "    .dataframe thead th {\n",
       "        text-align: right;\n",
       "    }\n",
       "</style>\n",
       "<table border=\"1\" class=\"dataframe\">\n",
       "  <thead>\n",
       "    <tr style=\"text-align: right;\">\n",
       "      <th></th>\n",
       "      <th>Name</th>\n",
       "      <th>Type 1</th>\n",
       "      <th>HP</th>\n",
       "      <th>Attack</th>\n",
       "      <th>Defense</th>\n",
       "      <th>Speed</th>\n",
       "    </tr>\n",
       "    <tr>\n",
       "      <th>ID</th>\n",
       "      <th></th>\n",
       "      <th></th>\n",
       "      <th></th>\n",
       "      <th></th>\n",
       "      <th></th>\n",
       "      <th></th>\n",
       "    </tr>\n",
       "  </thead>\n",
       "  <tbody>\n",
       "    <tr>\n",
       "      <th>0</th>\n",
       "      <td>Bulbasaur</td>\n",
       "      <td>Grass</td>\n",
       "      <td>45</td>\n",
       "      <td>49</td>\n",
       "      <td>49</td>\n",
       "      <td>45</td>\n",
       "    </tr>\n",
       "    <tr>\n",
       "      <th>1</th>\n",
       "      <td>Ivysaur</td>\n",
       "      <td>Grass</td>\n",
       "      <td>60</td>\n",
       "      <td>62</td>\n",
       "      <td>63</td>\n",
       "      <td>60</td>\n",
       "    </tr>\n",
       "    <tr>\n",
       "      <th>2</th>\n",
       "      <td>Venusaur</td>\n",
       "      <td>Grass</td>\n",
       "      <td>80</td>\n",
       "      <td>82</td>\n",
       "      <td>83</td>\n",
       "      <td>80</td>\n",
       "    </tr>\n",
       "    <tr>\n",
       "      <th>3</th>\n",
       "      <td>VenusaurMega Venusaur</td>\n",
       "      <td>Grass</td>\n",
       "      <td>80</td>\n",
       "      <td>100</td>\n",
       "      <td>123</td>\n",
       "      <td>80</td>\n",
       "    </tr>\n",
       "    <tr>\n",
       "      <th>4</th>\n",
       "      <td>Charmander</td>\n",
       "      <td>Fire</td>\n",
       "      <td>39</td>\n",
       "      <td>52</td>\n",
       "      <td>43</td>\n",
       "      <td>65</td>\n",
       "    </tr>\n",
       "  </tbody>\n",
       "</table>\n",
       "</div>"
      ],
      "text/plain": [
       "                     Name Type 1  HP  Attack  Defense  Speed\n",
       "ID                                                          \n",
       "0               Bulbasaur  Grass  45      49       49     45\n",
       "1                 Ivysaur  Grass  60      62       63     60\n",
       "2                Venusaur  Grass  80      82       83     80\n",
       "3   VenusaurMega Venusaur  Grass  80     100      123     80\n",
       "4              Charmander   Fire  39      52       43     65"
      ]
     },
     "execution_count": 37,
     "metadata": {},
     "output_type": "execute_result"
    }
   ],
   "source": [
    "dados.head()"
   ]
  },
  {
   "cell_type": "code",
   "execution_count": 38,
   "id": "e85baef7-b096-42a1-9864-244c03d3b7e7",
   "metadata": {},
   "outputs": [
    {
     "name": "stdout",
     "output_type": "stream",
     "text": [
      "<class 'pandas.core.frame.DataFrame'>\n",
      "RangeIndex: 800 entries, 0 to 799\n",
      "Data columns (total 6 columns):\n",
      " #   Column   Non-Null Count  Dtype \n",
      "---  ------   --------------  ----- \n",
      " 0   Name     800 non-null    object\n",
      " 1   Type 1   800 non-null    object\n",
      " 2   HP       800 non-null    int64 \n",
      " 3   Attack   800 non-null    int64 \n",
      " 4   Defense  800 non-null    int64 \n",
      " 5   Speed    800 non-null    int64 \n",
      "dtypes: int64(4), object(2)\n",
      "memory usage: 37.6+ KB\n"
     ]
    }
   ],
   "source": [
    "dados.info()"
   ]
  },
  {
   "cell_type": "code",
   "execution_count": 39,
   "id": "5248d5bc-0b23-41f0-834b-ffa3f97d99f3",
   "metadata": {},
   "outputs": [],
   "source": [
    "#Para salvar essa nova tabela:\n",
    "dados.to_csv('Pokemon_alterados2.csv')"
   ]
  },
  {
   "cell_type": "code",
   "execution_count": null,
   "id": "53a8fa99-cd6c-4295-8a23-6c5df90fbc47",
   "metadata": {},
   "outputs": [],
   "source": []
  }
 ],
 "metadata": {
  "kernelspec": {
   "display_name": "Python 3 (ipykernel)",
   "language": "python",
   "name": "python3"
  },
  "language_info": {
   "codemirror_mode": {
    "name": "ipython",
    "version": 3
   },
   "file_extension": ".py",
   "mimetype": "text/x-python",
   "name": "python",
   "nbconvert_exporter": "python",
   "pygments_lexer": "ipython3",
   "version": "3.11.7"
  }
 },
 "nbformat": 4,
 "nbformat_minor": 5
}
