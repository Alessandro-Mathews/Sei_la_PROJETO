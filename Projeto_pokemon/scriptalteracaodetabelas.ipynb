{
 "cells": [
  {
   "cell_type": "code",
   "execution_count": 1,
   "id": "a16b6217-2ecf-401c-a4a6-84c32cb3d7a7",
   "metadata": {},
   "outputs": [],
   "source": [
    "#Exclusão de tabelas e Tratamento dos dados:\n",
    "#Importa o pandas:\n",
    "import pandas as pd"
   ]
  },
  {
   "cell_type": "code",
   "execution_count": 2,
   "id": "e44e8981-bb7a-49f1-b53b-d576fb0dbd19",
   "metadata": {},
   "outputs": [],
   "source": [
    "#Importa os dados do kaggle, baixados na máquina e envia para o arquivo do jupyter:\n",
    "dados = pd.read_csv('Pokemon.csv', index_col=0)"
   ]
  },
  {
   "cell_type": "code",
   "execution_count": 3,
   "id": "c9ab77bb-8556-411f-ac5c-a9bf94102c94",
   "metadata": {},
   "outputs": [
    {
     "data": {
      "text/plain": [
       "<bound method DataFrame.info of                       Name   Type 1  Type 2  Total  HP  Attack  Defense  \\\n",
       "#                                                                         \n",
       "1                Bulbasaur    Grass  Poison    318  45      49       49   \n",
       "2                  Ivysaur    Grass  Poison    405  60      62       63   \n",
       "3                 Venusaur    Grass  Poison    525  80      82       83   \n",
       "3    VenusaurMega Venusaur    Grass  Poison    625  80     100      123   \n",
       "4               Charmander     Fire     NaN    309  39      52       43   \n",
       "..                     ...      ...     ...    ...  ..     ...      ...   \n",
       "719                Diancie     Rock   Fairy    600  50     100      150   \n",
       "719    DiancieMega Diancie     Rock   Fairy    700  50     160      110   \n",
       "720    HoopaHoopa Confined  Psychic   Ghost    600  80     110       60   \n",
       "720     HoopaHoopa Unbound  Psychic    Dark    680  80     160       60   \n",
       "721              Volcanion     Fire   Water    600  80     110      120   \n",
       "\n",
       "     Sp. Atk  Sp. Def  Speed  Generation  Legendary  \n",
       "#                                                    \n",
       "1         65       65     45           1      False  \n",
       "2         80       80     60           1      False  \n",
       "3        100      100     80           1      False  \n",
       "3        122      120     80           1      False  \n",
       "4         60       50     65           1      False  \n",
       "..       ...      ...    ...         ...        ...  \n",
       "719      100      150     50           6       True  \n",
       "719      160      110    110           6       True  \n",
       "720      150      130     70           6       True  \n",
       "720      170      130     80           6       True  \n",
       "721      130       90     70           6       True  \n",
       "\n",
       "[800 rows x 12 columns]>"
      ]
     },
     "execution_count": 3,
     "metadata": {},
     "output_type": "execute_result"
    }
   ],
   "source": [
    "#Para ter acesso aos dados:\n",
    "dados.info"
   ]
  },
  {
   "cell_type": "code",
   "execution_count": 5,
   "id": "5b6041bc-72fa-4039-b94b-3db668f88250",
   "metadata": {},
   "outputs": [],
   "source": [
    "#Excluir as tabelas que não iremos utilizar:\n",
    "dados.drop('Type 2', axis = 1, inplace=True)\n",
    "dados.drop('Total', axis = 1, inplace=True)\n",
    "dados.drop('Sp. Atk', axis = 1, inplace=True)\n",
    "dados.drop('Sp. Def', axis = 1, inplace=True)\n",
    "dados.drop('Generation', axis = 1, inplace=True)\n",
    "dados.drop('Legendary', axis = 1, inplace=True)"
   ]
  },
  {
   "cell_type": "code",
   "execution_count": 6,
   "id": "e47e5ac5-034e-471d-9c0f-7f32ae47424e",
   "metadata": {},
   "outputs": [
    {
     "data": {
      "text/plain": [
       "<bound method DataFrame.info of                       Name   Type 1  HP  Attack  Defense  Speed\n",
       "#                                                              \n",
       "1                Bulbasaur    Grass  45      49       49     45\n",
       "2                  Ivysaur    Grass  60      62       63     60\n",
       "3                 Venusaur    Grass  80      82       83     80\n",
       "3    VenusaurMega Venusaur    Grass  80     100      123     80\n",
       "4               Charmander     Fire  39      52       43     65\n",
       "..                     ...      ...  ..     ...      ...    ...\n",
       "719                Diancie     Rock  50     100      150     50\n",
       "719    DiancieMega Diancie     Rock  50     160      110    110\n",
       "720    HoopaHoopa Confined  Psychic  80     110       60     70\n",
       "720     HoopaHoopa Unbound  Psychic  80     160       60     80\n",
       "721              Volcanion     Fire  80     110      120     70\n",
       "\n",
       "[800 rows x 6 columns]>"
      ]
     },
     "execution_count": 6,
     "metadata": {},
     "output_type": "execute_result"
    }
   ],
   "source": [
    "#Para verificar se as alterações foram realizadas:\n",
    "dados.info"
   ]
  },
  {
   "cell_type": "code",
   "execution_count": null,
   "id": "53bfb09b-50a3-4d4f-a477-c63696959ac0",
   "metadata": {},
   "outputs": [],
   "source": []
  }
 ],
 "metadata": {
  "kernelspec": {
   "display_name": "Python 3 (ipykernel)",
   "language": "python",
   "name": "python3"
  },
  "language_info": {
   "codemirror_mode": {
    "name": "ipython",
    "version": 3
   },
   "file_extension": ".py",
   "mimetype": "text/x-python",
   "name": "python",
   "nbconvert_exporter": "python",
   "pygments_lexer": "ipython3",
   "version": "3.11.7"
  }
 },
 "nbformat": 4,
 "nbformat_minor": 5
}
