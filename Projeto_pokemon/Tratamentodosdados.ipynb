{
 "cells": [
  {
   "cell_type": "code",
   "execution_count": 2,
   "id": "18bbb151-f87b-4d05-9154-9446a95da72c",
   "metadata": {},
   "outputs": [],
   "source": [
    "#Biblioteca do pandas:\n",
    "import pandas as pd"
   ]
  },
  {
   "cell_type": "code",
   "execution_count": 3,
   "id": "d91b0620-8eee-406a-ace5-20a91488cb93",
   "metadata": {},
   "outputs": [],
   "source": [
    "dados = pd.read_csv('Pokemon_alterados.csv')"
   ]
  },
  {
   "cell_type": "code",
   "execution_count": 4,
   "id": "d445adb0-d068-4cb9-899c-a16b2ad65dfe",
   "metadata": {},
   "outputs": [
    {
     "data": {
      "text/plain": [
       "<bound method DataFrame.info of        #                   Name   Type 1  HP  Attack  Defense  Speed\n",
       "0      1              Bulbasaur    Grass  45      49       49     45\n",
       "1      2                Ivysaur    Grass  60      62       63     60\n",
       "2      3               Venusaur    Grass  80      82       83     80\n",
       "3      3  VenusaurMega Venusaur    Grass  80     100      123     80\n",
       "4      4             Charmander     Fire  39      52       43     65\n",
       "..   ...                    ...      ...  ..     ...      ...    ...\n",
       "795  719                Diancie     Rock  50     100      150     50\n",
       "796  719    DiancieMega Diancie     Rock  50     160      110    110\n",
       "797  720    HoopaHoopa Confined  Psychic  80     110       60     70\n",
       "798  720     HoopaHoopa Unbound  Psychic  80     160       60     80\n",
       "799  721              Volcanion     Fire  80     110      120     70\n",
       "\n",
       "[800 rows x 7 columns]>"
      ]
     },
     "execution_count": 4,
     "metadata": {},
     "output_type": "execute_result"
    }
   ],
   "source": [
    "dados.info"
   ]
  },
  {
   "cell_type": "code",
   "execution_count": 5,
   "id": "86322b03-fa4b-4403-8a08-b7419fdf3713",
   "metadata": {},
   "outputs": [],
   "source": [
    "#Antes não dava para excluir pois estava como chave primária.\n",
    "dados.drop('#', axis = 1, inplace=True)"
   ]
  },
  {
   "cell_type": "code",
   "execution_count": 6,
   "id": "f78019fe-4470-4a2e-bd85-58498b53aa3b",
   "metadata": {},
   "outputs": [
    {
     "data": {
      "text/plain": [
       "<bound method DataFrame.info of                       Name   Type 1  HP  Attack  Defense  Speed\n",
       "0                Bulbasaur    Grass  45      49       49     45\n",
       "1                  Ivysaur    Grass  60      62       63     60\n",
       "2                 Venusaur    Grass  80      82       83     80\n",
       "3    VenusaurMega Venusaur    Grass  80     100      123     80\n",
       "4               Charmander     Fire  39      52       43     65\n",
       "..                     ...      ...  ..     ...      ...    ...\n",
       "795                Diancie     Rock  50     100      150     50\n",
       "796    DiancieMega Diancie     Rock  50     160      110    110\n",
       "797    HoopaHoopa Confined  Psychic  80     110       60     70\n",
       "798     HoopaHoopa Unbound  Psychic  80     160       60     80\n",
       "799              Volcanion     Fire  80     110      120     70\n",
       "\n",
       "[800 rows x 6 columns]>"
      ]
     },
     "execution_count": 6,
     "metadata": {},
     "output_type": "execute_result"
    }
   ],
   "source": [
    "dados.info"
   ]
  },
  {
   "cell_type": "code",
   "execution_count": 7,
   "id": "4e170bf7-4304-4d17-a308-f09997e980ec",
   "metadata": {},
   "outputs": [
    {
     "data": {
      "text/plain": [
       "Name       False\n",
       "Type 1     False\n",
       "HP         False\n",
       "Attack     False\n",
       "Defense    False\n",
       "Speed      False\n",
       "dtype: bool"
      ]
     },
     "execution_count": 7,
     "metadata": {},
     "output_type": "execute_result"
    }
   ],
   "source": [
    "#Para verificar se possui algum valor vazio:\n",
    "dados.isna().any()"
   ]
  },
  {
   "cell_type": "code",
   "execution_count": 8,
   "id": "fd678da7-647f-43a4-ba7f-213ae9243f1b",
   "metadata": {},
   "outputs": [],
   "source": [
    "#Não possui nenhum."
   ]
  },
  {
   "cell_type": "code",
   "execution_count": 9,
   "id": "5bb71c5e-3b81-4fa2-91ca-e1935c8da25f",
   "metadata": {},
   "outputs": [
    {
     "data": {
      "text/html": [
       "<div>\n",
       "<style scoped>\n",
       "    .dataframe tbody tr th:only-of-type {\n",
       "        vertical-align: middle;\n",
       "    }\n",
       "\n",
       "    .dataframe tbody tr th {\n",
       "        vertical-align: top;\n",
       "    }\n",
       "\n",
       "    .dataframe thead th {\n",
       "        text-align: right;\n",
       "    }\n",
       "</style>\n",
       "<table border=\"1\" class=\"dataframe\">\n",
       "  <thead>\n",
       "    <tr style=\"text-align: right;\">\n",
       "      <th></th>\n",
       "      <th>Name</th>\n",
       "      <th>Type 1</th>\n",
       "      <th>HP</th>\n",
       "      <th>Attack</th>\n",
       "      <th>Defense</th>\n",
       "      <th>Speed</th>\n",
       "    </tr>\n",
       "  </thead>\n",
       "  <tbody>\n",
       "    <tr>\n",
       "      <th>34</th>\n",
       "      <td>Nidoran♀</td>\n",
       "      <td>Poison</td>\n",
       "      <td>55</td>\n",
       "      <td>47</td>\n",
       "      <td>52</td>\n",
       "      <td>41</td>\n",
       "    </tr>\n",
       "    <tr>\n",
       "      <th>37</th>\n",
       "      <td>Nidoran♂</td>\n",
       "      <td>Poison</td>\n",
       "      <td>46</td>\n",
       "      <td>57</td>\n",
       "      <td>40</td>\n",
       "      <td>50</td>\n",
       "    </tr>\n",
       "  </tbody>\n",
       "</table>\n",
       "</div>"
      ],
      "text/plain": [
       "        Name  Type 1  HP  Attack  Defense  Speed\n",
       "34  Nidoran♀  Poison  55      47       52     41\n",
       "37  Nidoran♂  Poison  46      57       40     50"
      ]
     },
     "execution_count": 9,
     "metadata": {},
     "output_type": "execute_result"
    }
   ],
   "source": [
    "#Comando para observar nas linhas:\n",
    "dados.loc[[34, 37]]"
   ]
  },
  {
   "cell_type": "code",
   "execution_count": 10,
   "id": "d388eddc-057b-4b13-9b9c-4a30d00f80ea",
   "metadata": {},
   "outputs": [],
   "source": [
    "#Comando para renomear:\n",
    "new_dados = pd.DataFrame({'Name': ['Nidoran female', 'Nidoran male']}, index=[34, 37])"
   ]
  },
  {
   "cell_type": "code",
   "execution_count": 11,
   "id": "c56303ee-793c-47c2-814a-96ba925e17c3",
   "metadata": {},
   "outputs": [],
   "source": [
    "#Salvar alterações nos dados:\n",
    "dados.update(new_dados)"
   ]
  },
  {
   "cell_type": "code",
   "execution_count": 15,
   "id": "07fea057-5880-44f3-af50-bd1e2ced4f5f",
   "metadata": {},
   "outputs": [
    {
     "data": {
      "text/plain": [
       "<bound method DataFrame.info of                       Name   Type 1  HP  Attack  Defense  Speed\n",
       "0                Bulbasaur    Grass  45      49       49     45\n",
       "1                  Ivysaur    Grass  60      62       63     60\n",
       "2                 Venusaur    Grass  80      82       83     80\n",
       "3    VenusaurMega Venusaur    Grass  80     100      123     80\n",
       "4               Charmander     Fire  39      52       43     65\n",
       "..                     ...      ...  ..     ...      ...    ...\n",
       "795                Diancie     Rock  50     100      150     50\n",
       "796    DiancieMega Diancie     Rock  50     160      110    110\n",
       "797    HoopaHoopa Confined  Psychic  80     110       60     70\n",
       "798     HoopaHoopa Unbound  Psychic  80     160       60     80\n",
       "799              Volcanion     Fire  80     110      120     70\n",
       "\n",
       "[800 rows x 6 columns]>"
      ]
     },
     "execution_count": 15,
     "metadata": {},
     "output_type": "execute_result"
    }
   ],
   "source": [
    "#Para verificar as tabelas:\n",
    "dados.info"
   ]
  },
  {
   "cell_type": "code",
   "execution_count": 16,
   "id": "e64b43fd-0d21-4fae-b823-f65287910311",
   "metadata": {},
   "outputs": [
    {
     "data": {
      "text/html": [
       "<div>\n",
       "<style scoped>\n",
       "    .dataframe tbody tr th:only-of-type {\n",
       "        vertical-align: middle;\n",
       "    }\n",
       "\n",
       "    .dataframe tbody tr th {\n",
       "        vertical-align: top;\n",
       "    }\n",
       "\n",
       "    .dataframe thead th {\n",
       "        text-align: right;\n",
       "    }\n",
       "</style>\n",
       "<table border=\"1\" class=\"dataframe\">\n",
       "  <thead>\n",
       "    <tr style=\"text-align: right;\">\n",
       "      <th></th>\n",
       "      <th>Name</th>\n",
       "      <th>Type 1</th>\n",
       "      <th>HP</th>\n",
       "      <th>Attack</th>\n",
       "      <th>Defense</th>\n",
       "      <th>Speed</th>\n",
       "    </tr>\n",
       "  </thead>\n",
       "  <tbody>\n",
       "    <tr>\n",
       "      <th>34</th>\n",
       "      <td>Nidoran female</td>\n",
       "      <td>Poison</td>\n",
       "      <td>55</td>\n",
       "      <td>47</td>\n",
       "      <td>52</td>\n",
       "      <td>41</td>\n",
       "    </tr>\n",
       "    <tr>\n",
       "      <th>37</th>\n",
       "      <td>Nidoran male</td>\n",
       "      <td>Poison</td>\n",
       "      <td>46</td>\n",
       "      <td>57</td>\n",
       "      <td>40</td>\n",
       "      <td>50</td>\n",
       "    </tr>\n",
       "  </tbody>\n",
       "</table>\n",
       "</div>"
      ],
      "text/plain": [
       "              Name  Type 1  HP  Attack  Defense  Speed\n",
       "34  Nidoran female  Poison  55      47       52     41\n",
       "37    Nidoran male  Poison  46      57       40     50"
      ]
     },
     "execution_count": 16,
     "metadata": {},
     "output_type": "execute_result"
    }
   ],
   "source": [
    "#Para verificar se as alterações foram realizadas:\n",
    "dados.loc[[34, 37]]"
   ]
  },
  {
   "cell_type": "code",
   "execution_count": 17,
   "id": "96b64ee4-ad8d-44cf-9f1c-4f45f3473022",
   "metadata": {},
   "outputs": [],
   "source": [
    "#Para salvar essa nova tabela:\n",
    "dados.to_csv('Pokemon_alterados2.csv')"
   ]
  },
  {
   "cell_type": "code",
   "execution_count": null,
   "id": "38fd22bf-20af-4d3c-b81a-186c82c5ae41",
   "metadata": {},
   "outputs": [],
   "source": []
  }
 ],
 "metadata": {
  "kernelspec": {
   "display_name": "Python 3 (ipykernel)",
   "language": "python",
   "name": "python3"
  },
  "language_info": {
   "codemirror_mode": {
    "name": "ipython",
    "version": 3
   },
   "file_extension": ".py",
   "mimetype": "text/x-python",
   "name": "python",
   "nbconvert_exporter": "python",
   "pygments_lexer": "ipython3",
   "version": "3.11.7"
  }
 },
 "nbformat": 4,
 "nbformat_minor": 5
}
